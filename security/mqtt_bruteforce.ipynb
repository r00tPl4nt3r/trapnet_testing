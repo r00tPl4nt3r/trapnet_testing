{
 "cells": [
  {
   "cell_type": "code",
   "execution_count": 1,
   "id": "badf875c",
   "metadata": {},
   "outputs": [],
   "source": [
    "import paho.mqtt.client as mqtt\n",
    "import json\n",
    "from IPython import display\n",
    "from base64 import b64decode\n",
    "import time\n",
    "import random\n",
    "import datetime\n",
    "import logging"
   ]
  },
  {
   "cell_type": "code",
   "execution_count": 2,
   "id": "4e0d6996",
   "metadata": {},
   "outputs": [],
   "source": [
    "def on_connect(client, userdata, flags, reason_code, properties):\n",
    "    logging.info(f\"Connected with result code {reason_code}\")\n",
    "    # Subscribing in on_connect() means that if we lose the connection and\n",
    "    # reconnect then subscriptions will be renewed.\n",
    "    print(\"connected\")\n",
    "\n",
    "def on_connect_fail(client, userdata, flags, reason_code, properties):\n",
    "    logging.info(f\"Connected with result code {reason_code}\")\n",
    "    # Subscribing in on_connect() means that if we lose the connection and\n",
    "    # reconnect then subscriptions will be renewed.\n",
    "    print(\"not connected\")\n",
    "    \n",
    "\n",
    "def on_message(client, userdata, message):\n",
    "    print(\"Received message:\", message.payload.decode())\n",
    "    \n",
    "\n",
    "    "
   ]
  },
  {
   "cell_type": "code",
   "execution_count": 5,
   "id": "5927ed9f",
   "metadata": {},
   "outputs": [],
   "source": [
    "mqttc = mqtt.Client(mqtt.CallbackAPIVersion.VERSION2)\n",
    "\n",
    "users=[\"user1\",\"user2\",\"user3\"]\n",
    "passwords=[\"pass1\",\"pass2\",\"pass3\"]\n",
    "\n",
    "mqttc.on_connect = on_connect\n",
    "mqttc._on_connect_fail = on_connect_fail\n",
    "\n",
    "for user in users:\n",
    "    for password in passwords:\n",
    "        try:\n",
    "            mqttc.username_pw_set(user,password)\n",
    "            mqttc.connect_async(\"192.168.0.6\", 1883, 60)\n",
    "        except Exception as error:\n",
    "            print(error)"
   ]
  },
  {
   "cell_type": "code",
   "execution_count": 4,
   "id": "ed0068dc",
   "metadata": {},
   "outputs": [
    {
     "data": {
      "text/plain": [
       "<function __main__.on_connect_fail(client, userdata, flags, reason_code, properties)>"
      ]
     },
     "execution_count": 4,
     "metadata": {},
     "output_type": "execute_result"
    }
   ],
   "source": [
    "mqttc._on_connect_fail"
   ]
  },
  {
   "cell_type": "code",
   "execution_count": null,
   "id": "099fc9aa",
   "metadata": {},
   "outputs": [],
   "source": []
  }
 ],
 "metadata": {
  "kernelspec": {
   "display_name": "Python 3 (ipykernel)",
   "language": "python",
   "name": "python3"
  },
  "language_info": {
   "codemirror_mode": {
    "name": "ipython",
    "version": 3
   },
   "file_extension": ".py",
   "mimetype": "text/x-python",
   "name": "python",
   "nbconvert_exporter": "python",
   "pygments_lexer": "ipython3",
   "version": "3.9.6"
  }
 },
 "nbformat": 4,
 "nbformat_minor": 5
}
